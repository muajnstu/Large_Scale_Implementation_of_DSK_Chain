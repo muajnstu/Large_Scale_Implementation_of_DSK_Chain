{
  "nbformat": 4,
  "nbformat_minor": 0,
  "metadata": {
    "colab": {
      "provenance": [],
      "authorship_tag": "ABX9TyP3iI1MKAk/V1CFNJJ8e/Ag",
      "include_colab_link": true
    },
    "kernelspec": {
      "name": "python3",
      "display_name": "Python 3"
    },
    "language_info": {
      "name": "python"
    }
  },
  "cells": [
    {
      "cell_type": "markdown",
      "metadata": {
        "id": "view-in-github",
        "colab_type": "text"
      },
      "source": [
        "<a href=\"https://colab.research.google.com/github/muajnstu/Large_Scale_Implementation_of_DSK_Chain/blob/main/Applying_Clustering_Algorithm_based_on_Data_Characteristics.ipynb\" target=\"_parent\"><img src=\"https://colab.research.google.com/assets/colab-badge.svg\" alt=\"Open In Colab\"/></a>"
      ]
    },
    {
      "cell_type": "markdown",
      "source": [
        "reference_link: https://scikit-learn.org/stable/modules/clustering.html#mini-batch-kmeans"
      ],
      "metadata": {
        "id": "Te2JOWNp0all"
      }
    },
    {
      "cell_type": "markdown",
      "source": [
        "K-means"
      ],
      "metadata": {
        "id": "iMYKJ6stzS-Y"
      }
    },
    {
      "cell_type": "code",
      "source": [
        "import pandas as pd\n",
        "import numpy as np\n",
        "\n",
        "import matplotlib.pyplot as plt\n",
        "from sklearn.cluster import KMeans"
      ],
      "metadata": {
        "id": "vTp0-cuszZp5"
      },
      "execution_count": null,
      "outputs": []
    },
    {
      "cell_type": "code",
      "source": [
        "url = 'http://raw.githubusercontent.com/muajnstu/Large_Scale_Implementation_of_DSK_Chain/refs/heads/main/Cleaned_Data/fraud_trans_dataset.csv'\n",
        "df = pd.read_csv(url)\n",
        "\n",
        "X = df.drop(columns=['Is Fraudulent'])\n",
        "y = df['Is Fraudulent']\n",
        "\n",
        "X_0 = X[y == 0]\n",
        "X_1 = X[y == 1]"
      ],
      "metadata": {
        "id": "rUMvTsQfzVz3"
      },
      "execution_count": null,
      "outputs": []
    },
    {
      "cell_type": "code",
      "source": [
        "wcss_0 = []\n",
        "for i in range(1, 11):\n",
        "    kmeans = KMeans(n_clusters=i, random_state=42)\n",
        "    kmeans.fit(X_0)\n",
        "    wcss_0.append(kmeans.inertia_)\n",
        "\n",
        "plt.plot(range(1, 11), wcss_0, marker='o')\n",
        "plt.title('Elbow Method for Class 0')\n",
        "plt.xlabel('Number of clusters')\n",
        "plt.ylabel('WCSS')\n",
        "plt.show()"
      ],
      "metadata": {
        "id": "yXLwX7JrzYX5"
      },
      "execution_count": null,
      "outputs": []
    },
    {
      "cell_type": "code",
      "source": [
        "wcss_1 = []\n",
        "for i in range(1, 11):\n",
        "    kmeans = KMeans(n_clusters=i, random_state=42)\n",
        "    kmeans.fit(X_1)\n",
        "    wcss_1.append(kmeans.inertia_)\n",
        "\n",
        "plt.plot(range(1, 11), wcss_1, marker='o')\n",
        "plt.title('Elbow Method for Class 1')\n",
        "plt.xlabel('Number of clusters')\n",
        "plt.ylabel('WCSS')\n",
        "plt.show()"
      ],
      "metadata": {
        "id": "oVCcLNhpzenX"
      },
      "execution_count": null,
      "outputs": []
    },
    {
      "cell_type": "code",
      "source": [
        "n_clusters_0 = 4   # <-- set based on elbow visualization\n",
        "n_clusters_1 = 3   # <-- set based on elbow visualization\n",
        "\n",
        "kmeans_0 = KMeans(n_clusters=n_clusters_0, random_state=42)\n",
        "sub_labels_0 = kmeans_0.fit_predict(X_0)\n",
        "\n",
        "kmeans_1 = KMeans(n_clusters=n_clusters_1, random_state=42)\n",
        "sub_labels_1 = kmeans_1.fit_predict(X_1)"
      ],
      "metadata": {
        "id": "WBUNVRK8zgrI"
      },
      "execution_count": null,
      "outputs": []
    },
    {
      "cell_type": "code",
      "source": [
        "counts_0 = np.bincount(sub_labels_0)\n",
        "for i, count in enumerate(counts_0):\n",
        "    print(f\"Class 0 - Cluster {i}: {count} samples\")"
      ],
      "metadata": {
        "colab": {
          "base_uri": "https://localhost:8080/"
        },
        "id": "fMEj-S8BziyX",
        "outputId": "03487be7-dc73-469e-f2c6-620304d09433"
      },
      "execution_count": null,
      "outputs": [
        {
          "output_type": "stream",
          "name": "stdout",
          "text": [
            "Class 0 - Cluster 0: 7947 samples\n",
            "Class 0 - Cluster 1: 7985 samples\n",
            "Class 0 - Cluster 2: 1364 samples\n",
            "Class 0 - Cluster 3: 5116 samples\n"
          ]
        }
      ]
    },
    {
      "cell_type": "code",
      "source": [
        "counts_1 = np.bincount(sub_labels_1)\n",
        "for i, count in enumerate(counts_1):\n",
        "    print(f\"Class 1 - Cluster {i}: {count} samples\")"
      ],
      "metadata": {
        "colab": {
          "base_uri": "https://localhost:8080/"
        },
        "id": "ccg1HAAgzrz_",
        "outputId": "9d75412c-0714-4922-ce17-328a69ac568c"
      },
      "execution_count": null,
      "outputs": [
        {
          "output_type": "stream",
          "name": "stdout",
          "text": [
            "Class 1 - Cluster 0: 184 samples\n",
            "Class 1 - Cluster 1: 1013 samples\n",
            "Class 1 - Cluster 2: 25 samples\n"
          ]
        }
      ]
    },
    {
      "cell_type": "code",
      "source": [
        "df_0 = X_0.copy()\n",
        "df_0['Is Fraudulent'] = 0\n",
        "df_0['Cluster_Label'] = ['0.'+str(i+1) for i in sub_labels_0]\n",
        "\n",
        "df_1 = X_1.copy()\n",
        "df_1['Is Fraudulent'] = 1\n",
        "df_1['Cluster_Label'] = ['1.'+str(i+1) for i in sub_labels_1]\n",
        "\n",
        "final_df = pd.concat([df_0, df_1], ignore_index=True)\n",
        "\n",
        "final_df.to_csv('Clustered_fraudulent.csv', index=False)\n",
        "print(\"Saved as Clustered_fraudulent.csv\")"
      ],
      "metadata": {
        "id": "GA0WE-CPzuRA"
      },
      "execution_count": null,
      "outputs": []
    },
    {
      "cell_type": "markdown",
      "source": [
        "DBSCAN"
      ],
      "metadata": {
        "id": "8O9mNc3hXYyL"
      }
    },
    {
      "cell_type": "code",
      "execution_count": null,
      "metadata": {
        "id": "R0KjqPTuP2J3"
      },
      "outputs": [],
      "source": [
        "import pandas as pd\n",
        "import numpy as np\n",
        "from sklearn.cluster import DBSCAN"
      ]
    },
    {
      "cell_type": "code",
      "source": [
        "dbscan_0 = DBSCAN(eps=0.5, min_samples=5)\n",
        "sub_labels_0 = dbscan_0.fit_predict(X_0)\n",
        "\n",
        "dbscan_1 = DBSCAN(eps=0.5, min_samples=5)\n",
        "sub_labels_1 = dbscan_1.fit_predict(X_1)"
      ],
      "metadata": {
        "id": "GDPBIs6dP9Rx"
      },
      "execution_count": null,
      "outputs": []
    },
    {
      "cell_type": "code",
      "source": [
        "\n",
        "unique_0, counts_0 = np.unique(sub_labels_0, return_counts=True)\n",
        "for cluster, count in zip(unique_0, counts_0):\n",
        "    print(f\"Class 0 - Cluster {cluster}: {count} samples\")"
      ],
      "metadata": {
        "colab": {
          "base_uri": "https://localhost:8080/"
        },
        "id": "sh_NYhPpQEaB",
        "outputId": "717e7646-e16a-4829-b8a8-17c1b38c6530"
      },
      "execution_count": null,
      "outputs": [
        {
          "output_type": "stream",
          "name": "stdout",
          "text": [
            "Class 0 - Cluster -1: 22412 samples\n"
          ]
        }
      ]
    },
    {
      "cell_type": "code",
      "source": [
        "\n",
        "unique_1, counts_1 = np.unique(sub_labels_1, return_counts=True)\n",
        "for cluster, count in zip(unique_1, counts_1):\n",
        "    print(f\"Class 1 - Cluster {cluster}: {count} samples\")"
      ],
      "metadata": {
        "colab": {
          "base_uri": "https://localhost:8080/"
        },
        "id": "wHLs63o5QFMJ",
        "outputId": "378e8ecf-ae7a-4aab-e3ae-d60188aa3583"
      },
      "execution_count": null,
      "outputs": [
        {
          "output_type": "stream",
          "name": "stdout",
          "text": [
            "Class 1 - Cluster -1: 1222 samples\n"
          ]
        }
      ]
    },
    {
      "cell_type": "code",
      "source": [
        "df_0 = X_0.copy()\n",
        "df_0['Is Fraudulent'] = 0\n",
        "df_0['Cluster_Label'] = ['0.' + str(i) for i in sub_labels_0]\n",
        "\n",
        "df_1 = X_1.copy()\n",
        "df_1['Is Fraudulent'] = 1\n",
        "df_1['Cluster_Label'] = ['1.' + str(i) for i in sub_labels_1]\n",
        "\n",
        "final_df = pd.concat([df_0, df_1], ignore_index=True)\n",
        "\n",
        "final_df.to_csv('Clustered_fraudulent.csv', index=False)\n",
        "print(\"Saved as Clustered_fraudulent.csv\")"
      ],
      "metadata": {
        "id": "sgaE44WJz_xw"
      },
      "execution_count": null,
      "outputs": []
    },
    {
      "cell_type": "markdown",
      "source": [
        "Hierarchical Clustering (also called Agglomerative Clustering)"
      ],
      "metadata": {
        "id": "5e7LTcqhQ1Vo"
      }
    },
    {
      "cell_type": "code",
      "source": [
        "from scipy.cluster.hierarchy import linkage, dendrogram\n",
        "import matplotlib.pyplot as plt\n",
        "from scipy.cluster.hierarchy import linkage, fcluster\n",
        "from sklearn.cluster import AgglomerativeClustering"
      ],
      "metadata": {
        "id": "BETvm3c1WsjN"
      },
      "execution_count": null,
      "outputs": []
    },
    {
      "cell_type": "code",
      "source": [
        "# Generate linkage matrix for Class 0\n",
        "Z = linkage(X_0, method='ward')\n",
        "\n",
        "plt.figure(figsize=(10, 5))\n",
        "dendrogram(Z)\n",
        "plt.title(\"Dendrogram for Class 0\")\n",
        "plt.xlabel(\"Samples\")\n",
        "plt.ylabel(\"Distance\")\n",
        "plt.axhline(y=5, color='r', linestyle='--')\n",
        "plt.show()\n"
      ],
      "metadata": {
        "colab": {
          "base_uri": "https://localhost:8080/",
          "height": 496
        },
        "id": "OsNGEmnuQ0Xg",
        "outputId": "7a6527ba-3c34-4763-cc57-df855d5604c6"
      },
      "execution_count": null,
      "outputs": [
        {
          "output_type": "display_data",
          "data": {
            "text/plain": [
              "<Figure size 1000x500 with 1 Axes>"
            ],
            "image/png": "[encoded data removed]"
          },
          "metadata": {}
        }
      ]
    },
    {
      "cell_type": "code",
      "source": [
        "Z = linkage(X_0, method='ward')\n",
        "\n",
        "cluster_labels = fcluster(Z, t=10000, criterion='distance')\n",
        "\n",
        "n_clusters = len(np.unique(cluster_labels))\n",
        "print(f\"Number of clusters: {n_clusters}\")\n"
      ],
      "metadata": {
        "colab": {
          "base_uri": "https://localhost:8080/"
        },
        "id": "saUk43dNWOFe",
        "outputId": "8183e5b8-c8d8-4807-c0d9-4c7acd789997"
      },
      "execution_count": null,
      "outputs": [
        {
          "output_type": "stream",
          "name": "stdout",
          "text": [
            "Number of clusters: 4\n"
          ]
        }
      ]
    },
    {
      "cell_type": "code",
      "source": [
        "# Generate linkage matrix for Class 0\n",
        "Z = linkage(X_1, method='ward')\n",
        "\n",
        "plt.figure(figsize=(10, 5))\n",
        "dendrogram(Z)\n",
        "plt.title(\"Dendrogram for Class 1\")\n",
        "plt.xlabel(\"Samples\")\n",
        "plt.ylabel(\"Distance\")\n",
        "plt.axhline(y=5, color='r', linestyle='--')\n",
        "plt.show()"
      ],
      "metadata": {
        "colab": {
          "base_uri": "https://localhost:8080/",
          "height": 491
        },
        "id": "gG_hxfxiTkKm",
        "outputId": "3986b4a4-f866-416f-9e48-ffcbfe05e857"
      },
      "execution_count": null,
      "outputs": [
        {
          "output_type": "display_data",
          "data": {
            "text/plain": [
              "<Figure size 1000x500 with 1 Axes>"
            ],
            "image/png": "[encoded data removed]"
          },
          "metadata": {}
        }
      ]
    },
    {
      "cell_type": "code",
      "source": [
        "Z = linkage(X_1, method='ward')\n",
        "\n",
        "cluster_labels = fcluster(Z, t=10000, criterion='distance')\n",
        "\n",
        "n_clusters = len(np.unique(cluster_labels))\n",
        "print(f\"Number of clusters: {n_clusters}\")\n"
      ],
      "metadata": {
        "colab": {
          "base_uri": "https://localhost:8080/"
        },
        "id": "Sa1ztXGWW35_",
        "outputId": "9b91a15c-4d05-4dd9-dc9e-510e0378e0c4"
      },
      "execution_count": null,
      "outputs": [
        {
          "output_type": "stream",
          "name": "stdout",
          "text": [
            "Number of clusters: 4\n"
          ]
        }
      ]
    },
    {
      "cell_type": "markdown",
      "source": [
        "or"
      ],
      "metadata": {
        "id": "9nPNZxYCSa3R"
      }
    },
    {
      "cell_type": "code",
      "source": [
        "hc_0 = AgglomerativeClustering(n_clusters=2, linkage='ward')\n",
        "sub_labels_0 = hc_0.fit_predict(X_0)\n",
        "\n",
        "hc_1 = AgglomerativeClustering(n_clusters=2, linkage='ward')\n",
        "sub_labels_1 = hc_1.fit_predict(X_1)"
      ],
      "metadata": {
        "id": "eg1Pc7p9S0Cp"
      },
      "execution_count": null,
      "outputs": []
    },
    {
      "cell_type": "code",
      "source": [
        "counts_0 = np.bincount(sub_labels_0)\n",
        "for i, count in enumerate(counts_0):\n",
        "    print(f\"Class 0 - Cluster {i}: {count} samples\")\n",
        "\n",
        "counts_1 = np.bincount(sub_labels_1)\n",
        "for i, count in enumerate(counts_1):\n",
        "    print(f\"Class 1 - Cluster {i}: {count} samples\")\n"
      ],
      "metadata": {
        "colab": {
          "base_uri": "https://localhost:8080/"
        },
        "id": "XB1t3I93S9Zn",
        "outputId": "ebc62db2-49b3-4846-e636-ea5237607c1a"
      },
      "execution_count": null,
      "outputs": [
        {
          "output_type": "stream",
          "name": "stdout",
          "text": [
            "Class 0 - Cluster 0: 6852 samples\n",
            "Class 0 - Cluster 1: 15560 samples\n",
            "Class 1 - Cluster 0: 269 samples\n",
            "Class 1 - Cluster 1: 953 samples\n"
          ]
        }
      ]
    },
    {
      "cell_type": "code",
      "source": [
        "df_0 = X_0.copy()\n",
        "df_0['Is Fraudulent'] = 0\n",
        "df_0['Cluster_Label'] = ['0.' + str(i+1) for i in sub_labels_0]\n",
        "\n",
        "df_1 = X_1.copy()\n",
        "df_1['Is Fraudulent'] = 1\n",
        "df_1['Cluster_Label'] = ['1.' + str(i+1) for i in sub_labels_1]\n",
        "\n",
        "final_df = pd.concat([df_0, df_1], ignore_index=True)\n",
        "\n",
        "final_df.to_csv('Clustered_fraudulent.csv', index=False)\n",
        "print(\"Saved as Clustered_fraudulent.csv\")"
      ],
      "metadata": {
        "id": "8x1BJQdrTOCg"
      },
      "execution_count": null,
      "outputs": []
    },
    {
      "cell_type": "markdown",
      "source": [
        "Spectral Clustering"
      ],
      "metadata": {
        "id": "wLuNsvLFXm1B"
      }
    },
    {
      "cell_type": "code",
      "source": [
        "import pandas as pd\n",
        "import numpy as np\n",
        "from sklearn.cluster import SpectralClustering\n",
        "from sklearn.metrics import silhouette_score"
      ],
      "metadata": {
        "id": "sA9St0S9vEGF"
      },
      "execution_count": null,
      "outputs": []
    },
    {
      "cell_type": "code",
      "source": [
        "def run_spectral_clustering(X_data, class_label):\n",
        "    best_score = -1\n",
        "    best_k = None\n",
        "    best_labels = None\n",
        "\n",
        "    # Search for the best number of clusters\n",
        "    for k in range(2, 7):\n",
        "        sc = SpectralClustering(\n",
        "            n_clusters=k,\n",
        "            affinity='nearest_neighbors',  # or 'rbf'\n",
        "            assign_labels='kmeans',\n",
        "            random_state=42\n",
        "        )\n",
        "        labels = sc.fit_predict(X_data)\n",
        "        score = silhouette_score(X_data, labels)\n",
        "        print(f\"Class {class_label} | n_clusters={k}, Silhouette Score={score:.4f}\")\n",
        "\n",
        "        if score > best_score:\n",
        "            best_score = score\n",
        "            best_k = k\n",
        "            best_labels = labels\n",
        "\n",
        "    print(f\"Best n_clusters for Class {class_label}: {best_k} (Silhouette Score={best_score:.4f})\")\n",
        "    return best_labels, best_k, best_score\n",
        "\n"
      ],
      "metadata": {
        "id": "Npz_246LtMBb"
      },
      "execution_count": null,
      "outputs": []
    },
    {
      "cell_type": "code",
      "source": [
        "# ---- Run Spectral Clustering with automatic k selection ----\n",
        "sub_labels_0, best_k_0, best_score_0 = run_spectral_clustering(X_0, class_label=0)\n",
        "sub_labels_1, best_k_1, best_score_1 = run_spectral_clustering(X_1, class_label=1)"
      ],
      "metadata": {
        "colab": {
          "base_uri": "https://localhost:8080/"
        },
        "id": "wUe0xwblvU-s",
        "outputId": "66b09b3c-fbf4-4e17-c087-3d6577849083"
      },
      "execution_count": null,
      "outputs": [
        {
          "output_type": "stream",
          "name": "stdout",
          "text": [
            "Class 0 | n_clusters=2, Silhouette Score=0.5437\n",
            "Class 0 | n_clusters=3, Silhouette Score=0.3796\n",
            "Class 0 | n_clusters=4, Silhouette Score=0.3919\n",
            "Class 0 | n_clusters=5, Silhouette Score=0.3835\n",
            "Class 0 | n_clusters=6, Silhouette Score=0.3804\n",
            "Best n_clusters for Class 0: 2 (Silhouette Score=0.5437)\n",
            "Class 1 | n_clusters=2, Silhouette Score=0.6686\n",
            "Class 1 | n_clusters=3, Silhouette Score=0.5090\n",
            "Class 1 | n_clusters=4, Silhouette Score=0.3246\n",
            "Class 1 | n_clusters=5, Silhouette Score=0.4022\n",
            "Class 1 | n_clusters=6, Silhouette Score=0.3910\n",
            "Best n_clusters for Class 1: 2 (Silhouette Score=0.6686)\n"
          ]
        }
      ]
    },
    {
      "cell_type": "code",
      "source": [
        "# Show cluster counts\n",
        "counts_0 = np.bincount(sub_labels_0)\n",
        "for i, count in enumerate(counts_0):\n",
        "    print(f\"Class 0 - Cluster {i}: {count} samples\")\n",
        "\n",
        "counts_1 = np.bincount(sub_labels_1)\n",
        "for i, count in enumerate(counts_1):\n",
        "    print(f\"Class 1 - Cluster {i}: {count} samples\")"
      ],
      "metadata": {
        "colab": {
          "base_uri": "https://localhost:8080/"
        },
        "id": "8oqhJWRWvWG1",
        "outputId": "be26558c-4124-453f-f007-2b7cdba5d7de"
      },
      "execution_count": null,
      "outputs": [
        {
          "output_type": "stream",
          "name": "stdout",
          "text": [
            "Class 0 - Cluster 0: 18280 samples\n",
            "Class 0 - Cluster 1: 4132 samples\n",
            "Class 1 - Cluster 0: 937 samples\n",
            "Class 1 - Cluster 1: 285 samples\n"
          ]
        }
      ]
    },
    {
      "cell_type": "code",
      "source": [
        "df_0 = X_0.copy()\n",
        "df_0['Is Fraudulent'] = 0\n",
        "df_0['Cluster_Label'] = ['0.' + str(i+1) for i in sub_labels_0]\n",
        "\n",
        "df_1 = X_1.copy()\n",
        "df_1['Is Fraudulent'] = 1\n",
        "df_1['Cluster_Label'] = ['1.' + str(i+1) for i in sub_labels_1]\n",
        "\n",
        "final_df = pd.concat([df_0, df_1], ignore_index=True)\n",
        "\n",
        "final_df.to_csv('Clustered_fraudulent.csv', index=False)\n",
        "print(\"Saved as Clustered_fraudulent.csv\")"
      ],
      "metadata": {
        "id": "g2CE5ZAGzKzA"
      },
      "execution_count": null,
      "outputs": []
    },
    {
      "cell_type": "markdown",
      "source": [],
      "metadata": {
        "id": "XxXdLGFxw_hn"
      }
    },
    {
      "cell_type": "code",
      "source": [
        "import pandas as pd\n",
        "import numpy as np\n",
        "from sklearn.cluster import MiniBatchKMeans"
      ],
      "metadata": {
        "id": "c6EvCvhdx_48"
      },
      "execution_count": null,
      "outputs": []
    },
    {
      "cell_type": "code",
      "source": [
        "n_clusters_0 = 4\n",
        "mbk_0 = MiniBatchKMeans(\n",
        "    n_clusters=n_clusters_0,\n",
        "    random_state=42,\n",
        "    batch_size=256,\n",
        "    max_iter=100\n",
        ")\n",
        "sub_labels_0 = mbk_0.fit_predict(X_0)\n",
        "\n",
        "n_clusters_1 = 3\n",
        "mbk_1 = MiniBatchKMeans(\n",
        "    n_clusters=n_clusters_1,\n",
        "    random_state=42,\n",
        "    batch_size=256,\n",
        "    max_iter=100\n",
        ")\n",
        "sub_labels_1 = mbk_1.fit_predict(X_1)\n",
        "\n"
      ],
      "metadata": {
        "id": "0zXJprTsw-zA"
      },
      "execution_count": null,
      "outputs": []
    },
    {
      "cell_type": "code",
      "source": [
        "counts_0 = np.bincount(sub_labels_0)\n",
        "for i, count in enumerate(counts_0):\n",
        "    print(f\"Class 0 - Cluster {i}: {count} samples\")\n",
        "\n",
        "counts_1 = np.bincount(sub_labels_1)\n",
        "for i, count in enumerate(counts_1):\n",
        "    print(f\"Class 1 - Cluster {i}: {count} samples\")"
      ],
      "metadata": {
        "colab": {
          "base_uri": "https://localhost:8080/"
        },
        "id": "3g5NVTbIyM67",
        "outputId": "30941265-c881-4fdd-9549-79b3ddda55f0"
      },
      "execution_count": null,
      "outputs": [
        {
          "output_type": "stream",
          "name": "stdout",
          "text": [
            "Class 0 - Cluster 0: 5140 samples\n",
            "Class 0 - Cluster 1: 7617 samples\n",
            "Class 0 - Cluster 2: 8136 samples\n",
            "Class 0 - Cluster 3: 1519 samples\n",
            "Class 1 - Cluster 0: 214 samples\n",
            "Class 1 - Cluster 1: 969 samples\n",
            "Class 1 - Cluster 2: 39 samples\n"
          ]
        }
      ]
    },
    {
      "cell_type": "code",
      "source": [
        "df_0 = X_0.copy()\n",
        "df_0['Is Fraudulent'] = 0\n",
        "df_0['Cluster_Label'] = ['0.' + str(i+1) for i in sub_labels_0]\n",
        "\n",
        "df_1 = X_1.copy()\n",
        "df_1['Is Fraudulent'] = 1\n",
        "df_1['Cluster_Label'] = ['1.' + str(i+1) for i in sub_labels_1]\n",
        "\n",
        "final_df = pd.concat([df_0, df_1], ignore_index=True)\n",
        "\n",
        "# Export result\n",
        "final_df.to_csv('Clustered_fraudulent.csv', index=False)\n",
        "print(\"Saved as Clustered_fraudulent.csv\")"
      ],
      "metadata": {
        "id": "VuFZO0xHyOuF"
      },
      "execution_count": null,
      "outputs": []
    }
  ]
}